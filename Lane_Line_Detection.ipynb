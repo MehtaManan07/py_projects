{
  "nbformat": 4,
  "nbformat_minor": 0,
  "metadata": {
    "colab": {
      "provenance": [],
      "authorship_tag": "ABX9TyM1hY2n5EF8mFlILF6ioQkz",
      "include_colab_link": true
    },
    "kernelspec": {
      "name": "python3",
      "display_name": "Python 3"
    },
    "language_info": {
      "name": "python"
    }
  },
  "cells": [
    {
      "cell_type": "markdown",
      "metadata": {
        "id": "view-in-github",
        "colab_type": "text"
      },
      "source": [
        "<a href=\"https://colab.research.google.com/github/MehtaManan07/py_projects/blob/main/Lane_Line_Detection.ipynb\" target=\"_parent\"><img src=\"https://colab.research.google.com/assets/colab-badge.svg\" alt=\"Open In Colab\"/></a>"
      ]
    },
    {
      "cell_type": "code",
      "execution_count": null,
      "metadata": {
        "id": "cujyPCxJOhie"
      },
      "outputs": [],
      "source": [
        "import cv2\n",
        "import numpy as np\n"
      ]
    },
    {
      "cell_type": "code",
      "source": [
        "def make_points(image, line):\n",
        "    slope, intercept = line\n",
        "    y1 = int(image.shape[0])# bottom of the image\n",
        "    y2 = int(y1*3/5)         # slightly lower than the middle\n",
        "    x1 = int((y1 - intercept)/slope)\n",
        "    x2 = int((y2 - intercept)/slope)\n",
        "    return [[x1, y1, x2, y2]]"
      ],
      "metadata": {
        "id": "C1d4k1aeSC1J"
      },
      "execution_count": null,
      "outputs": []
    },
    {
      "cell_type": "code",
      "source": [
        "def average_slope_intercept(image, lines):\n",
        "    left_fit    = []\n",
        "    right_fit   = []\n",
        "    if lines is None:\n",
        "        return None\n",
        "    for line in lines:\n",
        "        for x1, y1, x2, y2 in line:\n",
        "            fit = np.polyfit((x1,x2), (y1,y2), 1)\n",
        "            slope = fit[0]\n",
        "            intercept = fit[1]\n",
        "            if slope < 0: # y is reversed in image\n",
        "                left_fit.append((slope, intercept))\n",
        "            else:\n",
        "                right_fit.append((slope, intercept))\n",
        "    # add more weight to longer lines\n",
        "    left_fit_average  = np.average(left_fit, axis=0)\n",
        "    right_fit_average = np.average(right_fit, axis=0)\n",
        "    left_line  = make_points(image, left_fit_average)\n",
        "    right_line = make_points(image, right_fit_average)\n",
        "    if len(left_fit) and len(right_fit):\n",
        "    ##over-simplified if statement (should give you an idea of why the error occurs)\n",
        "        left_fit_average  = np.average(left_fit, axis=0)\n",
        "        right_fit_average = np.average(right_fit, axis=0)\n",
        "        left_line  = make_points(image, left_fit_average)\n",
        "        right_line = make_points(image, right_fit_average)\n",
        "        averaged_lines = [left_line, right_line]\n",
        "        return averaged_lines\n",
        "    averaged_lines = [left_line, right_line]\n",
        "    return averaged_lines"
      ],
      "metadata": {
        "id": "4z4M4ZlFSGwo"
      },
      "execution_count": null,
      "outputs": []
    },
    {
      "cell_type": "code",
      "source": [
        "def canny(img):\n",
        "    gray = cv2.cvtColor(img, cv2.COLOR_RGB2GRAY)\n",
        "    kernel = 5\n",
        "    blur = cv2.GaussianBlur(gray,(kernel, kernel),0)\n",
        "    canny = cv2.Canny(gray, 50, 150)\n",
        "    return canny"
      ],
      "metadata": {
        "id": "s8xYUjkKSX43"
      },
      "execution_count": null,
      "outputs": []
    },
    {
      "cell_type": "code",
      "source": [
        "def display_lines(img,lines):\n",
        "    line_image = np.zeros_like(img)\n",
        "    if lines is not None:\n",
        "        for line in lines:\n",
        "            for x1, y1, x2, y2 in line:\n",
        "                cv2.line(line_image,(x1,y1),(x2,y2),(255,0,0),10)\n",
        "    return line_image"
      ],
      "metadata": {
        "id": "19NYQHqFSbrl"
      },
      "execution_count": null,
      "outputs": []
    },
    {
      "cell_type": "code",
      "source": [
        "def region_of_interest(canny):\n",
        "    height = canny.shape[0]\n",
        "    width = canny.shape[1]\n",
        "    mask = np.zeros_like(canny)\n",
        " \n",
        "    triangle = np.array([[\n",
        "    (200, height),\n",
        "    (550, 250),\n",
        "    (1100, height),]], np.int32)\n",
        " \n",
        "    cv2.fillPoly(mask, triangle, 255)\n",
        "    masked_image = cv2.bitwise_and(canny, mask)\n",
        "    return masked_image"
      ],
      "metadata": {
        "id": "LjyV6rzdSgX_"
      },
      "execution_count": null,
      "outputs": []
    },
    {
      "cell_type": "code",
      "source": [
        "from google.colab.patches import cv2_imshow\n",
        "cap = cv2.VideoCapture(\"original.mp4\")\n",
        "while(cap.isOpened()):\n",
        "    ret, frame = cap.read()\n",
        "    if ret == True:\n",
        "        canny_image = canny(frame)\n",
        "        cropped_canny = region_of_interest(canny_image)\n",
        "        lines = cv2.HoughLinesP(cropped_canny, 2, np.pi/180, 100, np.array([]), minLineLength=40,maxLineGap=5)\n",
        "        averaged_lines = average_slope_intercept(frame, lines)\n",
        "        line_image = display_lines(frame, averaged_lines)\n",
        "        combo_image = cv2.addWeighted(frame, 0.8, line_image, 1, 1)\n",
        "        cv2_imshow(combo_image)\n",
        "        if cv2.waitKey(10) & 0xFF == ord('q'):\n",
        "            break\n",
        "    else:\n",
        "        break\n",
        "cap.release()\n",
        "cv2.destroyAllWindows()"
      ],
      "metadata": {
        "id": "IdVa6sxZUpJO"
      },
      "execution_count": null,
      "outputs": []
    }
  ]
}